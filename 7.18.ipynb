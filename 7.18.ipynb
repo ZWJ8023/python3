{
 "cells": [
  {
   "cell_type": "markdown",
   "metadata": {},
   "source": [
    "# 选择\n",
    "## 布尔类型、数值和表达式\n",
    "![](../Photo/33.png)\n",
    "- 注意：比较运算符的相等是两个等号，一个等到代表赋值\n",
    "- 在Python中可以用整型0来代表False，其他数字来代表True\n",
    "- 后面还会讲到 is 在判断语句中的用发"
   ]
  },
  {
   "cell_type": "code",
   "execution_count": 2,
   "metadata": {},
   "outputs": [
    {
     "data": {
      "text/plain": [
       "True"
      ]
     },
     "execution_count": 2,
     "metadata": {},
     "output_type": "execute_result"
    }
   ],
   "source": [
    "1<=2<=3"
   ]
  },
  {
   "cell_type": "code",
   "execution_count": 3,
   "metadata": {},
   "outputs": [
    {
     "data": {
      "text/plain": [
       "False"
      ]
     },
     "execution_count": 3,
     "metadata": {},
     "output_type": "execute_result"
    }
   ],
   "source": [
    "bool(0)"
   ]
  },
  {
   "cell_type": "code",
   "execution_count": 4,
   "metadata": {},
   "outputs": [
    {
     "data": {
      "text/plain": [
       "True"
      ]
     },
     "execution_count": 4,
     "metadata": {},
     "output_type": "execute_result"
    }
   ],
   "source": [
    "bool('joker')"
   ]
  },
  {
   "cell_type": "code",
   "execution_count": null,
   "metadata": {},
   "outputs": [],
   "source": [
    "while True"
   ]
  },
  {
   "cell_type": "code",
   "execution_count": 5,
   "metadata": {},
   "outputs": [
    {
     "name": "stdout",
     "output_type": "stream",
     "text": [
      "1920822752 1920822752\n"
     ]
    }
   ],
   "source": [
    "a= id(1)\n",
    "b= id(1)\n",
    "print (a,b)"
   ]
  },
  {
   "cell_type": "code",
   "execution_count": 7,
   "metadata": {},
   "outputs": [
    {
     "data": {
      "text/plain": [
       "False"
      ]
     },
     "execution_count": 7,
     "metadata": {},
     "output_type": "execute_result"
    }
   ],
   "source": [
    "a is b #因为ab不是同一个对象"
   ]
  },
  {
   "cell_type": "code",
   "execution_count": 9,
   "metadata": {},
   "outputs": [
    {
     "data": {
      "text/plain": [
       "False"
      ]
     },
     "execution_count": 9,
     "metadata": {},
     "output_type": "execute_result"
    }
   ],
   "source": [
    "a=True\n",
    "b=False\n",
    "a is b #a == b ==比较的是值，is比较的是对象"
   ]
  },
  {
   "cell_type": "markdown",
   "metadata": {},
   "source": [
    "## 字符串的比较使用ASCII值"
   ]
  },
  {
   "cell_type": "code",
   "execution_count": 15,
   "metadata": {},
   "outputs": [
    {
     "data": {
      "text/plain": [
       "True"
      ]
     },
     "execution_count": 15,
     "metadata": {},
     "output_type": "execute_result"
    }
   ],
   "source": [
    "a='joker'\n",
    "b='jokar'\n",
    "a>b"
   ]
  },
  {
   "cell_type": "markdown",
   "metadata": {},
   "source": [
    "## Markdown \n",
    "- https://github.com/younghz/Markdown"
   ]
  },
  {
   "cell_type": "markdown",
   "metadata": {},
   "source": [
    "$\\sum_{j=1}"
   ]
  },
  {
   "cell_type": "markdown",
   "metadata": {},
   "source": [
    "## EP:\n",
    "- <img src=\"../Photo/34.png\"></img>\n",
    "- 输入一个数字，判断其实奇数还是偶数"
   ]
  },
  {
   "cell_type": "code",
   "execution_count": 19,
   "metadata": {},
   "outputs": [
    {
     "name": "stdout",
     "output_type": "stream",
     "text": [
      "1\n"
     ]
    }
   ],
   "source": [
    "i = int(True)\n",
    "print(i)"
   ]
  },
  {
   "cell_type": "code",
   "execution_count": 20,
   "metadata": {},
   "outputs": [
    {
     "name": "stdout",
     "output_type": "stream",
     "text": [
      "0\n"
     ]
    }
   ],
   "source": [
    "j = int(False)\n",
    "print(j)"
   ]
  },
  {
   "cell_type": "markdown",
   "metadata": {},
   "source": [
    "## 产生随机数字\n",
    "- 函数random.randint(a,b) 可以用来产生一个a和b之间且包括a和b的随机整数"
   ]
  },
  {
   "cell_type": "code",
   "execution_count": 20,
   "metadata": {},
   "outputs": [],
   "source": [
    "import random"
   ]
  },
  {
   "cell_type": "code",
   "execution_count": 22,
   "metadata": {},
   "outputs": [
    {
     "data": {
      "text/plain": [
       "0"
      ]
     },
     "execution_count": 22,
     "metadata": {},
     "output_type": "execute_result"
    }
   ],
   "source": [
    "random.randint(0,1)"
   ]
  },
  {
   "cell_type": "markdown",
   "metadata": {},
   "source": [
    "产生一个随机数，你去输入，如果你输入的数大于随机数，那么就告诉你太大了，反之，太小了，\n",
    "然后你一直输入，知道它满意为止"
   ]
  },
  {
   "cell_type": "code",
   "execution_count": 11,
   "metadata": {},
   "outputs": [
    {
     "ename": "IndentationError",
     "evalue": "expected an indented block (<ipython-input-11-e1be59455938>, line 4)",
     "output_type": "error",
     "traceback": [
      "\u001b[1;36m  File \u001b[1;32m\"<ipython-input-11-e1be59455938>\"\u001b[1;36m, line \u001b[1;32m4\u001b[0m\n\u001b[1;33m    if (b>a):\u001b[0m\n\u001b[1;37m     ^\u001b[0m\n\u001b[1;31mIndentationError\u001b[0m\u001b[1;31m:\u001b[0m expected an indented block\n"
     ]
    }
   ],
   "source": [
    "b=eval(input('请输入数字1：'))\n",
    "a=random.randint(0,100)\n",
    "if (b>a):\n",
    "    print('你太大了')\n",
    "else:\n",
    "    print('太小了')\n"
   ]
  },
  {
   "cell_type": "code",
   "execution_count": 14,
   "metadata": {},
   "outputs": [],
   "source": [
    "a=random.randint(0,100)"
   ]
  },
  {
   "cell_type": "code",
   "execution_count": 13,
   "metadata": {},
   "outputs": [
    {
     "name": "stdout",
     "output_type": "stream",
     "text": [
      "请输入数字1：23\n",
      "太小了\n"
     ]
    }
   ],
   "source": [
    "b=eval(input('请输入数字1：'))\n",
    "if b>a:\n",
    "    print('你太大了')\n",
    "if b<a:\n",
    "    print('太小了')\n",
    "if b==a:\n",
    "    print('相等')\n"
   ]
  },
  {
   "cell_type": "code",
   "execution_count": null,
   "metadata": {},
   "outputs": [],
   "source": [
    " for i in range(5):\n",
    "    b=eval(input('请输入数字1：'))\n",
    "    if b>a:\n",
    "        print('你太大了')\n",
    "    if b<a:\n",
    "        print('太小了')\n",
    "    if b==a:\n",
    "        print('相等')\n",
    "        break"
   ]
  },
  {
   "cell_type": "markdown",
   "metadata": {},
   "source": [
    "##  其他random方法\n",
    "- random.random 返回0.0到1.0之间前闭后开区间的随机浮点\n",
    "- random.randrange(a,b) 前闭后开"
   ]
  },
  {
   "cell_type": "code",
   "execution_count": 18,
   "metadata": {},
   "outputs": [
    {
     "data": {
      "text/plain": [
       "<random.Random at 0x26c5b3669d8>"
      ]
     },
     "execution_count": 18,
     "metadata": {},
     "output_type": "execute_result"
    }
   ],
   "source": [
    "random.Random()"
   ]
  },
  {
   "cell_type": "markdown",
   "metadata": {},
   "source": [
    "## EP：\n",
    "- 产生两个随机整数number1和number2，然后显示给用户，使用户输入数字的和，并判定其是否正确\n",
    "- 进阶:写一个随机序号点名程序"
   ]
  },
  {
   "cell_type": "code",
   "execution_count": 37,
   "metadata": {},
   "outputs": [],
   "source": [
    "import random "
   ]
  },
  {
   "cell_type": "code",
   "execution_count": 40,
   "metadata": {},
   "outputs": [
    {
     "name": "stdout",
     "output_type": "stream",
     "text": [
      "请输入数字的和：5\n",
      "错误\n"
     ]
    }
   ],
   "source": [
    "number1=random.randint(0,10)\n",
    "number2=random.randint(0,10)\n",
    "num=number1+number2\n",
    "num1= eval(input('请输入数字的和：'))\n",
    "if num == num1:\n",
    "    print('正确')\n",
    "else:\n",
    "    print('错误')"
   ]
  },
  {
   "cell_type": "code",
   "execution_count": 1,
   "metadata": {},
   "outputs": [
    {
     "ename": "NameError",
     "evalue": "name 'random' is not defined",
     "output_type": "error",
     "traceback": [
      "\u001b[1;31m---------------------------------------------------------------------------\u001b[0m",
      "\u001b[1;31mNameError\u001b[0m                                 Traceback (most recent call last)",
      "\u001b[1;32m<ipython-input-1-38b757ef9d12>\u001b[0m in \u001b[0;36m<module>\u001b[1;34m()\u001b[0m\n\u001b[1;32m----> 1\u001b[1;33m \u001b[0mnumber1\u001b[0m\u001b[1;33m=\u001b[0m\u001b[0mrandom\u001b[0m\u001b[1;33m.\u001b[0m\u001b[0mrandint\u001b[0m\u001b[1;33m(\u001b[0m\u001b[1;36m0\u001b[0m\u001b[1;33m,\u001b[0m\u001b[1;36m10\u001b[0m\u001b[1;33m)\u001b[0m\u001b[1;33m\u001b[0m\u001b[0m\n\u001b[0m\u001b[0;32m      2\u001b[0m \u001b[0mnumber2\u001b[0m\u001b[1;33m=\u001b[0m\u001b[0mrandom\u001b[0m\u001b[1;33m.\u001b[0m\u001b[0mrandint\u001b[0m\u001b[1;33m(\u001b[0m\u001b[1;36m0\u001b[0m\u001b[1;33m,\u001b[0m\u001b[1;36m10\u001b[0m\u001b[1;33m)\u001b[0m\u001b[1;33m\u001b[0m\u001b[0m\n\u001b[0;32m      3\u001b[0m \u001b[0mnum1\u001b[0m\u001b[1;33m=\u001b[0m \u001b[0meval\u001b[0m\u001b[1;33m(\u001b[0m\u001b[0minput\u001b[0m\u001b[1;33m(\u001b[0m\u001b[1;34m'请输入数字的和：'\u001b[0m\u001b[1;33m)\u001b[0m\u001b[1;33m)\u001b[0m\u001b[1;33m\u001b[0m\u001b[0m\n\u001b[0;32m      4\u001b[0m \u001b[1;32mwhile\u001b[0m \u001b[1;36m1\u001b[0m\u001b[1;33m:\u001b[0m\u001b[1;33m\u001b[0m\u001b[0m\n\u001b[0;32m      5\u001b[0m     \u001b[0mnum\u001b[0m\u001b[1;33m=\u001b[0m\u001b[0mnumber1\u001b[0m\u001b[1;33m+\u001b[0m\u001b[0mnumber2\u001b[0m\u001b[1;33m\u001b[0m\u001b[0m\n",
      "\u001b[1;31mNameError\u001b[0m: name 'random' is not defined"
     ]
    }
   ],
   "source": [
    "number1=random.randint(0,10)\n",
    "number2=random.randint(0,10)\n",
    "num1= eval(input('请输入数字的和：'))\n",
    "while 1:\n",
    "    num=number1+number2\n",
    "    if num == num1:\n",
    "        print('正确')\n",
    "    else:\n",
    "        print('错误')"
   ]
  },
  {
   "cell_type": "markdown",
   "metadata": {},
   "source": [
    "## if语句\n",
    "- 如果条件正确就执行一个单向if语句，亦即当条件为真的时候才执行if内部的语句\n",
    "- Python有很多选择语句:\n",
    "> - 单向if \n",
    "  - 双向if-else\n",
    "  - 嵌套if\n",
    "  - 多向if-elif-else\n",
    "  \n",
    "- 注意：当语句含有子语句的时候，那么一定至少要有一个缩进，也就是说如果有儿子存在，那么一定要缩进\n",
    "- 切记不可tab键和space混用，单用tab 或者 space\n",
    "- 当你输出的结果是无论if是否为真时都需要显示时，语句应该与if对齐"
   ]
  },
  {
   "cell_type": "code",
   "execution_count": 4,
   "metadata": {},
   "outputs": [
    {
     "name": "stdout",
     "output_type": "stream",
     "text": [
      "请输入你的年龄：25\n",
      "见一下\n",
      "请输入你长得怎么样：'帅'\n",
      "考虑一下\n",
      "请输入你是否有老婆：'没有'\n",
      "结婚\n"
     ]
    }
   ],
   "source": [
    "age=eval(input('请输入你的年龄：'))\n",
    "age1=28\n",
    "\n",
    "if age>age1:\n",
    "    print('拜拜')\n",
    "else:\n",
    "    print('见一下')\n",
    "face=eval(input('请输入你长得怎么样：'))\n",
    "face1='帅'\n",
    "if face==face1:\n",
    "    print('考虑一下')\n",
    "else:\n",
    "    print('再见')\n",
    "lover=eval(input('请输入你是否有老婆：'))\n",
    "lover1='有'  \n",
    "if lover==lover1:\n",
    "     print('再见')\n",
    "else:\n",
    "    print('结婚')"
   ]
  },
  {
   "cell_type": "code",
   "execution_count": null,
   "metadata": {},
   "outputs": [],
   "source": [
    "age = input('年轻吗[y/n]')\n",
    "if age == 'y':\n",
    "    handsome = input('帅否[y/n]')\n",
    "    if handsome == 'y':\n",
    "        wife = input('有没有老婆[y/n]')\n",
    "        if wife == 'y':\n",
    "            print('回家的诱惑')\n",
    "        else:\n",
    "            print('立马结婚')\n",
    "    else:\n",
    "        print('考虑一下')\n",
    "else:\n",
    "    print('拜拜')"
   ]
  },
  {
   "cell_type": "markdown",
   "metadata": {},
   "source": [
    "## EP：\n",
    "- 用户输入一个数字，判断其实奇数还是偶数\n",
    "- 进阶：可以查看下4.5实例研究猜生日"
   ]
  },
  {
   "cell_type": "markdown",
   "metadata": {},
   "source": [
    "## 双向if-else 语句\n",
    "- 如果条件为真，那么走if内部语句，否则走else内部语句"
   ]
  },
  {
   "cell_type": "markdown",
   "metadata": {},
   "source": [
    "## EP：\n",
    "- 产生两个随机整数number1和number2，然后显示给用户，使用户输入数字，并判定其是否正确,如果正确打印“you‘re correct”，否则打印正确错误"
   ]
  },
  {
   "cell_type": "markdown",
   "metadata": {},
   "source": [
    "## 嵌套if 和多向if-elif-else\n",
    "![](../Photo/35.png)"
   ]
  },
  {
   "cell_type": "markdown",
   "metadata": {},
   "source": [
    "## EP：\n",
    "- 提示用户输入一个年份，然后显示表示这一年的动物\n",
    "![](../Photo/36.png)\n",
    "- 计算身体质量指数的程序\n",
    "- BMI = 以千克为单位的体重除以以米为单位的身高的平方\n",
    "![](../Photo/37.png)"
   ]
  },
  {
   "cell_type": "code",
   "execution_count": 3,
   "metadata": {},
   "outputs": [],
   "source": [
    "import math"
   ]
  },
  {
   "cell_type": "code",
   "execution_count": 7,
   "metadata": {},
   "outputs": [
    {
     "name": "stdout",
     "output_type": "stream",
     "text": [
      "请输入体重：51\n",
      "请输入身高：1.6\n",
      "标准\n"
     ]
    }
   ],
   "source": [
    "kg=eval(input('请输入体重：'))\n",
    "high=eval(input('请输入身高：'))\n",
    "BMI=kg/math.pow(high,2)\n",
    "if BMI<18.5:\n",
    "    result='超轻'\n",
    "elif 18.5<=BMI<25:\n",
    "    result='标准'\n",
    "elif 25<=BMI<30:\n",
    "    result='超重'\n",
    "elif 30<=BMI:\n",
    "    result='痴肥'\n",
    "print(result)\n",
    "    \n"
   ]
  },
  {
   "cell_type": "code",
   "execution_count": 2,
   "metadata": {},
   "outputs": [
    {
     "name": "stdout",
     "output_type": "stream",
     "text": [
      "请输入年份：2019\n",
      "🐖\n"
     ]
    }
   ],
   "source": [
    "year = eval(input('请输入年份：'))\n",
    "if year%12==0:\n",
    "    T='🐵'\n",
    "elif  year%12==1:\n",
    "    T='🐔'\n",
    "elif year%12==2:\n",
    "    T='🐕'\n",
    "elif year%12==3:\n",
    "    T='🐖'\n",
    "elif year%12==4:\n",
    "    T='🐹'\n",
    "elif year%12==5:\n",
    "    T='🐮'\n",
    "elif year%12==6:\n",
    "    T='🐯'\n",
    "elif year%12==7:\n",
    "    T='🐰'\n",
    "elif year%12==8:\n",
    "    T='🐲'\n",
    "elif year%12==9:\n",
    "    T='🐍'\n",
    "elif year%12==10:\n",
    "    T='🐎'\n",
    "elif year%12==11:\n",
    "    T='🐏'\n",
    "print(T)\n",
    "    "
   ]
  },
  {
   "cell_type": "markdown",
   "metadata": {},
   "source": [
    "## 逻辑运算符\n",
    "![](../Photo/38.png)"
   ]
  },
  {
   "cell_type": "markdown",
   "metadata": {},
   "source": [
    "![](../Photo/39.png)\n",
    "![](../Photo/40.png)"
   ]
  },
  {
   "cell_type": "markdown",
   "metadata": {},
   "source": [
    "## EP：\n",
    "- 判定闰年：一个年份如果能被4整除但不能被100整除，或者能被400整除，那么这个年份就是闰年\n",
    "- 提示用户输入一个年份，并返回是否是闰年\n",
    "- 提示用户输入一个数字，判断其是否为水仙花数"
   ]
  },
  {
   "cell_type": "code",
   "execution_count": 13,
   "metadata": {},
   "outputs": [
    {
     "name": "stdout",
     "output_type": "stream",
     "text": [
      "请输入年份：2004\n",
      "闰年\n"
     ]
    }
   ],
   "source": [
    "year=eval(input('请输入年份：'))\n",
    "if year%4==0 and year%100!=0:\n",
    "    print('闰年')\n",
    "elif year%400==0:\n",
    "    print('闰年')\n",
    "else:\n",
    "    print('不是闰年')"
   ]
  },
  {
   "cell_type": "code",
   "execution_count": 21,
   "metadata": {},
   "outputs": [
    {
     "name": "stdout",
     "output_type": "stream",
     "text": [
      "请输入年份：2000\n",
      "闰年\n"
     ]
    }
   ],
   "source": [
    "year=eval(input('请输入年份：'))\n",
    "if (year%4==0 and year%100!=0) or year%400==0:\n",
    "        print('闰年')\n",
    "else:\n",
    "    print('平年')\n",
    "    "
   ]
  },
  {
   "cell_type": "code",
   "execution_count": 23,
   "metadata": {},
   "outputs": [
    {
     "name": "stdout",
     "output_type": "stream",
     "text": [
      "请输入一个数字：153\n",
      "不是水仙花\n"
     ]
    }
   ],
   "source": [
    "number=eval(input('请输入一个数字：'))\n",
    "num1=number//100\n",
    "num2=number//10%10\n",
    "num3=number//10\n",
    "num=num1**3+num2**3+num3**3\n",
    "if num == number:\n",
    "    print('水仙花')\n",
    "else:\n",
    "    print('不是水仙花')"
   ]
  },
  {
   "cell_type": "code",
   "execution_count": 13,
   "metadata": {},
   "outputs": [],
   "source": [
    "import random"
   ]
  },
  {
   "cell_type": "code",
   "execution_count": 16,
   "metadata": {},
   "outputs": [
    {
     "name": "stdout",
     "output_type": "stream",
     "text": [
      "请输入一个两位数的数字：25\n",
      "没中奖\n"
     ]
    }
   ],
   "source": [
    "number=eval(input('请输入一个两位数的数字：'))\n",
    "num1=random.randint(0,9)\n",
    "num2=random.randint(0,9)\n",
    "if number==num1 and number==num2:\n",
    "    print('中10000美元')\n",
    "else:\n",
    "    print('没中奖')\n",
    "\n"
   ]
  },
  {
   "cell_type": "code",
   "execution_count": 27,
   "metadata": {},
   "outputs": [
    {
     "name": "stdout",
     "output_type": "stream",
     "text": [
      "请输入一个两位数的数字：48\n",
      "没中奖\n"
     ]
    }
   ],
   "source": [
    "number=eval(input('请输入一个两位数的数字：'))\n",
    "num1=random.randint(0,9)\n",
    "num2=random.randint(0,9)\n",
    "num3=10*num1+num2\n",
    "num4=10*num2+num1\n",
    "if number==num3 and number==num3:\n",
    "    print('中3000美元')\n",
    "else:\n",
    "    print('没中奖')\n"
   ]
  },
  {
   "cell_type": "code",
   "execution_count": 26,
   "metadata": {},
   "outputs": [
    {
     "name": "stdout",
     "output_type": "stream",
     "text": [
      "请输入一个两位数的数字：50\n",
      "没中奖\n"
     ]
    }
   ],
   "source": [
    "number=eval(input('请输入一个两位数的数字：'))\n",
    "num1=random.randint(0,9)\n",
    "num2=random.randint(0,9)\n",
    "num3=(10*num1+num2)%10\n",
    "num4=(10*num2+num1)%10\n",
    "if number==num3 or number==num3:\n",
    "    print('中3000美元')\n",
    "else:\n",
    "    print('没中奖')\n"
   ]
  },
  {
   "cell_type": "code",
   "execution_count": 28,
   "metadata": {},
   "outputs": [
    {
     "ename": "SyntaxError",
     "evalue": "invalid syntax (<ipython-input-28-93e34c8a3f67>, line 17)",
     "output_type": "error",
     "traceback": [
      "\u001b[1;36m  File \u001b[1;32m\"<ipython-input-28-93e34c8a3f67>\"\u001b[1;36m, line \u001b[1;32m17\u001b[0m\n\u001b[1;33m    elif(number_ge == N_ge or number_ge == N_shi)or (number_shi ==N_ge or number_shi)\u001b[0m\n\u001b[1;37m                                                                                     ^\u001b[0m\n\u001b[1;31mSyntaxError\u001b[0m\u001b[1;31m:\u001b[0m invalid syntax\n"
     ]
    }
   ],
   "source": [
    "number = random.randint(10,99)\n",
    "print(number)\n",
    "N= input('>>')\n",
    "number_shi  = number//10\n",
    "number_ge = number%10\n",
    "\n",
    "if N[0]==0:\n",
    "    N_shi = 0\n",
    "else:\n",
    "    N_shi =int(N)//10\n",
    "    N_ge = int(N) % 10\n",
    "\n",
    "    if number == int(N):\n",
    "        print('10000')\n",
    "    elif number_shi +number_ge ==N_shi + N_ge :\n",
    "        print('3000')\n",
    "    elif(number_ge == N_ge or number_ge == N_shi)or (number_shi ==N_ge or number_shi)\n",
    "        print('10')"
   ]
  },
  {
   "cell_type": "markdown",
   "metadata": {},
   "source": [
    "Homework\n",
    "- 1\n",
    "![](../Photo/42.png)"
   ]
  },
  {
   "cell_type": "code",
   "execution_count": 2,
   "metadata": {},
   "outputs": [],
   "source": [
    "import math "
   ]
  },
  {
   "cell_type": "code",
   "execution_count": 5,
   "metadata": {},
   "outputs": [
    {
     "name": "stdout",
     "output_type": "stream",
     "text": [
      "请输入数值a：1\n",
      "请输入数值b：3\n",
      "请输入数值c：1\n",
      "-0.3819660112501051 -2.618033988749895\n"
     ]
    }
   ],
   "source": [
    "num1=eval(input('请输入数值a：'))\n",
    "num2=eval(input('请输入数值b：'))\n",
    "num3=eval(input('请输入数值c：'))\n",
    "x4=-num2/2*num1\n",
    "x3=num2**2-4*num1*num3\n",
    "if x3>0:\n",
    "    x1=(-num2+math.sqrt(num2**2-4*num1*num3))/2*num1\n",
    "    x2=(-num2-math.sqrt(num2**2-4*num1*num3))/2*num1\n",
    "    print(x1,x2)\n",
    "elif x3==0:\n",
    "    print(x4)\n",
    "elif x3<0:\n",
    "    print('没有实根')\n",
    "\n"
   ]
  },
  {
   "cell_type": "markdown",
   "metadata": {},
   "source": [
    "- 2\n",
    "![](../Photo/43.png)"
   ]
  },
  {
   "cell_type": "code",
   "execution_count": 15,
   "metadata": {},
   "outputs": [
    {
     "name": "stdout",
     "output_type": "stream",
     "text": [
      "请输入两个整数的和：100\n",
      "69 14\n",
      "假\n"
     ]
    }
   ],
   "source": [
    "sum_1=eval(input('请输入两个整数的和：'))\n",
    "number_1=random.randint(10,99)\n",
    "number_2=random.randint(10,99)\n",
    "print(number_1,number_2)\n",
    "sum_2=number_1+number_2\n",
    "if sum_1 == sum_2:\n",
    "    print('真')\n",
    "else :\n",
    "    print('假')\n",
    "\n",
    "\n"
   ]
  },
  {
   "cell_type": "markdown",
   "metadata": {},
   "source": [
    "- 3\n",
    "![](../Photo/44.png)"
   ]
  },
  {
   "cell_type": "code",
   "execution_count": 22,
   "metadata": {},
   "outputs": [
    {
     "name": "stdout",
     "output_type": "stream",
     "text": [
      "请输入今天是一周的哪一天：1\n",
      "请输入今天之后到未来某天的天数：2\n",
      "今天是星期 1 未来那一天是 Wed\n"
     ]
    }
   ],
   "source": [
    "today=eval(input('请输入今天是一周的哪一天：'))\n",
    "later=eval(input('请输入今天之后到未来某天的天数：'))\n",
    "so=today+later\n",
    "if so==1:\n",
    "    week='Mon'\n",
    "elif so ==2:\n",
    "    week='Tue'\n",
    "elif so ==3:\n",
    "    week='Wed'\n",
    "elif so ==4:\n",
    "    week='Thu'   \n",
    "elif so ==5:\n",
    "    week='Fri'    \n",
    "elif so ==6:\n",
    "    week='Sat'   \n",
    "elif so ==0:\n",
    "    week='Sun'   \n",
    "print('今天是星期',today,'未来那一天是',week)"
   ]
  },
  {
   "cell_type": "markdown",
   "metadata": {},
   "source": [
    "- 4\n",
    "![](../Photo/45.png)"
   ]
  },
  {
   "cell_type": "code",
   "execution_count": 2,
   "metadata": {},
   "outputs": [
    {
     "name": "stdout",
     "output_type": "stream",
     "text": [
      "请输入第一个整数：4\n",
      "请输入第二个整数：2\n",
      "请输入第三个整数：9\n",
      "9 4 2\n"
     ]
    }
   ],
   "source": [
    "num_1=int(input('请输入第一个整数：'))\n",
    "num_2=int(input('请输入第二个整数：'))\n",
    "num_3=int(input('请输入第三个整数：'))\n",
    "if num_1>=num_2>=num_3:\n",
    "    print(num_1,num_2,num_3)\n",
    "elif num_1>=num_3>=num_2:\n",
    "     print(num_1,num_3,num_2)\n",
    "elif num_2>=num_1>=num_3:\n",
    "     print(num_2,num_1,num_3)\n",
    "elif num_2>=num_3>=num_1:\n",
    "     print(num_2,num_3,num_1)\n",
    "elif num_3>=num_1>=num_2:\n",
    "     print(num_3,num_1,num_2)\n",
    "elif num_3>=num_2>=num_1:\n",
    "     print(num_3,num_2,num_1)\n",
    "\n",
    "    \n"
   ]
  },
  {
   "cell_type": "code",
   "execution_count": 3,
   "metadata": {},
   "outputs": [
    {
     "name": "stdout",
     "output_type": "stream",
     "text": [
      "请输入第一个整数：2\n",
      "请输入第二个整数：6\n",
      "请输入第三个整数：1\n",
      "[1, 2, 6]\n"
     ]
    }
   ],
   "source": [
    "num_1=int(input('请输入第一个整数：'))\n",
    "num_2=int(input('请输入第二个整数：'))\n",
    "num_3=int(input('请输入第三个整数：'))\n",
    "num=[num_1,num_2,num_3]\n",
    "num.sort() #sort函数排序\n",
    "print(num)"
   ]
  },
  {
   "cell_type": "markdown",
   "metadata": {},
   "source": [
    "- 5\n",
    "![](../Photo/46.png)"
   ]
  },
  {
   "cell_type": "code",
   "execution_count": null,
   "metadata": {},
   "outputs": [
    {
     "name": "stdout",
     "output_type": "stream",
     "text": [
      "kg,price50,24.59\n",
      "kg,price25,11.99\n",
      "价钱更好的是 0.4918\n"
     ]
    }
   ],
   "source": [
    "kg1,price1=eval(input('kg,price'))\n",
    "kg2,price2=eval(input('kg,price'))\n",
    "average1=price1/kg1\n",
    "average2=price2/kg2\n",
    "if average1>average2:\n",
    "    print('价钱更好的是',average1,)\n",
    "elif average1<average2:\n",
    "    print('价钱更好的是',average2)"
   ]
  },
  {
   "cell_type": "code",
   "execution_count": 1,
   "metadata": {},
   "outputs": [
    {
     "name": "stdout",
     "output_type": "stream",
     "text": [
      "kg,price50,24.59\n",
      "kg,price25,11.99\n",
      "价钱更好的是 0.4918 (50, 24.59)\n"
     ]
    }
   ],
   "source": [
    "part_1=kg1,price1=eval(input('kg,price'))\n",
    "part_2=kg2,price2=eval(input('kg,price'))\n",
    "average1=price1/kg1\n",
    "average2=price2/kg2\n",
    "if average1>average2:\n",
    "    print('价钱更好的是',average1,part_1)\n",
    "elif average1<average2:\n",
    "    print('价钱更好的是',average2,part_2)"
   ]
  },
  {
   "cell_type": "markdown",
   "metadata": {},
   "source": [
    "- 6\n",
    "![](../Photo/47.png)"
   ]
  },
  {
   "cell_type": "code",
   "execution_count": 2,
   "metadata": {},
   "outputs": [
    {
     "name": "stdout",
     "output_type": "stream",
     "text": [
      "输入今天是一周内哪一天（范围为0到6的整数）：5\n",
      "输入间隔的天数：7\n",
      "今天是星期五,经过7天后， 是星期五\n"
     ]
    }
   ],
   "source": [
    "dayToday = eval(input('输入今天是一周内哪一天（范围为0到6的整数）：'))\n",
    "dayNumbers = eval(input('输入间隔的天数：'))\n",
    "dayFuture = (dayToday + dayNumbers) % 7\n",
    "dayList = ['星期日', '星期一', '星期二', '星期三', '星期四', '星期五', '星期六']\n",
    "print('今天是' + dayList[dayToday] + ',' + '经过%d天后，'%dayNumbers, '是' + dayList[dayFuture])"
   ]
  },
  {
   "cell_type": "markdown",
   "metadata": {},
   "source": [
    "- 7\n",
    "![](../Photo/48.png)"
   ]
  },
  {
   "cell_type": "code",
   "execution_count": 3,
   "metadata": {},
   "outputs": [],
   "source": [
    "import random"
   ]
  },
  {
   "cell_type": "code",
   "execution_count": 14,
   "metadata": {
    "scrolled": true
   },
   "outputs": [
    {
     "name": "stdout",
     "output_type": "stream",
     "text": [
      "请输入猜测值：'1'\n",
      "正面\n"
     ]
    }
   ],
   "source": [
    "number=eval(input('请输入猜测值：'))\n",
    "num_1='1'\n",
    "num_2='0'\n",
    "if number == num_1:\n",
    "    print('正面')\n",
    "elif number == num_2:\n",
    "    print('反面')"
   ]
  },
  {
   "cell_type": "markdown",
   "metadata": {},
   "source": [
    "8\n",
    "![](../Photo/49.png)"
   ]
  },
  {
   "cell_type": "code",
   "execution_count": 4,
   "metadata": {},
   "outputs": [],
   "source": [
    "import random"
   ]
  },
  {
   "cell_type": "code",
   "execution_count": 9,
   "metadata": {},
   "outputs": [
    {
     "name": "stdout",
     "output_type": "stream",
     "text": [
      "请输入你出的是：1\n",
      "1 1\n",
      "平局\n"
     ]
    }
   ],
   "source": [
    "#0=石头  1=剪刀 2=布\n",
    "user=eval(input('请输入你出的是：'))\n",
    "computer=random.randint(0,3)\n",
    "print(user,computer)\n",
    "if user == computer:\n",
    "    print('平局')\n",
    "elif (user == 0 and computer ==1) or (user == 1 and computer ==2) or (user == 2 and computer ==0):\n",
    "    print('玩家胜')\n",
    "elif (user == 0 and computer ==2) or (user == 1 and computer ==0) or (user == 2 and computer ==1):\n",
    "    print('电脑胜')\n",
    "\n",
    "\n"
   ]
  },
  {
   "cell_type": "markdown",
   "metadata": {},
   "source": [
    "- 9\n",
    "![](../Photo/50.png)"
   ]
  },
  {
   "cell_type": "code",
   "execution_count": 17,
   "metadata": {},
   "outputs": [
    {
     "name": "stdout",
     "output_type": "stream",
     "text": [
      "请输入年份：2012\n",
      "请输入月份：5\n",
      "请输入天数：12\n",
      "5\n",
      "1\n"
     ]
    }
   ],
   "source": [
    "year=eval(input('请输入年份：'))\n",
    "m=eval(input('请输入月份：'))\n",
    "q=eval(input('请输入天数：'))\n",
    "if m>=3:\n",
    "    print(m)\n",
    "else:\n",
    "    m += 12\n",
    "    print(m)\n",
    "j=year/100\n",
    "k=year%100\n",
    "part_1=(26*(m+1))/10\n",
    "h=int((q + part_1 + k + k/4 + j/4 +5*j)%7)\n",
    "print(h)\n"
   ]
  },
  {
   "cell_type": "markdown",
   "metadata": {},
   "source": [
    "- 10\n",
    "![](../Photo/51.png)"
   ]
  },
  {
   "cell_type": "code",
   "execution_count": 4,
   "metadata": {},
   "outputs": [
    {
     "name": "stdout",
     "output_type": "stream",
     "text": [
      "The card you picked is the 4 of 梅花\n"
     ]
    }
   ],
   "source": [
    "import random\n",
    "number = {1: 'Ace', 2: '2', 3: '3', 4: '4', 5: '5', 6: '6', 7: '7', 8: '8', 9: '9', 10: '10',\n",
    "              11: 'Jack', 12: 'Queen', 13: 'King'}\n",
    "color = {1:'梅花', 2: '红桃', 3: '方块', 4: '黑桃'}\n",
    "randNum = random.randint(1, 13)\n",
    "randCol = random.randint(1, 4)\n",
    "print('The card you picked is the ' + number[randNum] + ' of ' + color[randCol])"
   ]
  },
  {
   "cell_type": "markdown",
   "metadata": {},
   "source": [
    "- 11\n",
    "![](../Photo/52.png)"
   ]
  },
  {
   "cell_type": "code",
   "execution_count": null,
   "metadata": {},
   "outputs": [],
   "source": [
    "number=int(eval(input('请输入一个三位整数：')))\n",
    "if (number//100)*100 + (number//10%10)*10 + number%10 == (number%10)*100 + (number//10%10)*10 + number//100 :\n",
    "    print('这个数是回文数')\n",
    "else:\n",
    "    print('这个数不是回文数')\n"
   ]
  },
  {
   "cell_type": "code",
   "execution_count": null,
   "metadata": {},
   "outputs": [],
   "source": [
    "a=121\n",
    "b=a//100\n",
    "c=a//10%10\n",
    "d=a%10\n",
    "print(b,c,d)"
   ]
  },
  {
   "cell_type": "markdown",
   "metadata": {},
   "source": [
    "- 12\n",
    "![](../Photo/53.png)"
   ]
  },
  {
   "cell_type": "code",
   "execution_count": 22,
   "metadata": {},
   "outputs": [
    {
     "name": "stdout",
     "output_type": "stream",
     "text": [
      "请输入第一条边：1\n",
      "请输入第二条边：1\n",
      "请输入第三条边：1\n",
      "3\n"
     ]
    }
   ],
   "source": [
    "num_1=eval(input('请输入第一条边：'))\n",
    "num_2=eval(input('请输入第二条边：'))\n",
    "num_3=eval(input('请输入第三条边：'))\n",
    "sum_1=num_1+num_2+num_3\n",
    "if (num_1+num_2)>=num_3 and (num_1+num_3)>=num_1 and (num_2+num_3)>=num_1:\n",
    "    print(sum_1)\n",
    "else:\n",
    "    print('这个输入是非法的！')"
   ]
  }
 ],
 "metadata": {
  "kernelspec": {
   "display_name": "Python 3",
   "language": "python",
   "name": "python3"
  },
  "language_info": {
   "codemirror_mode": {
    "name": "ipython",
    "version": 3
   },
   "file_extension": ".py",
   "mimetype": "text/x-python",
   "name": "python",
   "nbconvert_exporter": "python",
   "pygments_lexer": "ipython3",
   "version": "3.6.4"
  }
 },
 "nbformat": 4,
 "nbformat_minor": 2
}
