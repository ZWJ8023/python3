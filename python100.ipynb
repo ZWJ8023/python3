{
 "cells": [
  {
   "cell_type": "markdown",
   "metadata": {},
   "source": [
    "# 张文洁一定能学会python！\n"
   ]
  },
  {
   "cell_type": "code",
   "execution_count": 1,
   "metadata": {},
   "outputs": [
    {
     "name": "stdout",
     "output_type": "stream",
     "text": [
      "hello,world!\n"
     ]
    }
   ],
   "source": [
    "\"\"\"\n",
    "\n",
    "第一个：\n",
    "    python程序----打印hello,world!\n",
    "    \n",
    "\"\"\"\n",
    "print('hello,world!')"
   ]
  },
  {
   "cell_type": "code",
   "execution_count": 2,
   "metadata": {},
   "outputs": [
    {
     "name": "stdout",
     "output_type": "stream",
     "text": [
      "hello,world!"
     ]
    }
   ],
   "source": [
    "print('hello','world',sep=',',end= '!')\n",
    "#sep:分割值与值，默认是一个空格\n",
    "#end:附件到最后一个值，默认是一个新行"
   ]
  },
  {
   "cell_type": "code",
   "execution_count": 3,
   "metadata": {},
   "outputs": [
    {
     "name": "stdout",
     "output_type": "stream",
     "text": [
      "goodbye,world!\n"
     ]
    }
   ],
   "source": [
    "print('goodbye,world',end='!\\n')\n",
    "#\\n:换行"
   ]
  },
  {
   "cell_type": "code",
   "execution_count": 9,
   "metadata": {},
   "outputs": [
    {
     "name": "stdout",
     "output_type": "stream",
     "text": [
      "4\n",
      "2\n",
      "3\n",
      "3.0\n",
      "3\n",
      "0\n",
      "3\n"
     ]
    }
   ],
   "source": [
    "\"\"\"\n",
    "\n",
    "第二个：\n",
    "    使用变量保存数据并进行算术运算\n",
    "    \n",
    "\"\"\"\n",
    "\n",
    "a = 3\n",
    "b = 1\n",
    "print(a + b)\n",
    "print(a - b)\n",
    "print(a * b)\n",
    "print(a / b) #除\n",
    "print(a // b)#整除\n",
    "print(a % b) #取模\n",
    "print(a ** b) #指数形式，次方\n"
   ]
  },
  {
   "cell_type": "code",
   "execution_count": 18,
   "metadata": {},
   "outputs": [
    {
     "name": "stdout",
     "output_type": "stream",
     "text": [
      "a = 1\n",
      "b = 2\n",
      "1 + 2 = 3\n",
      "1 - 2 = -1\n",
      "1 * 2 = 2\n",
      "1 / 2 = 0\n",
      "1 // 2 = 0\n",
      "1 % 2 = 1\n",
      "1 ** 2 = 1\n"
     ]
    }
   ],
   "source": [
    "\"\"\"\n",
    "\n",
    "第三个：\n",
    "    使用input函数输入\n",
    "    使用int()进行类型转换\n",
    "    用占位符格式化输出的字符串\n",
    "    \n",
    "\"\"\"\n",
    "\n",
    "a = int(input('a = '))\n",
    "b = int(input('b = '))\n",
    "print('%d + %d = %d' % (a, b, a+b))\n",
    "print('%d - %d = %d' % (a, b, a-b))\n",
    "print('%d * %d = %d' % (a, b, a*b))\n",
    "print('%d / %d = %d' % (a, b, a/b))\n",
    "print('%d // %d = %d' % (a, b, a//b))\n",
    "print('%d %% %d = %d' % (a, b, a%b))\n",
    "print('%d ** %d = %d' % (a, b, a**b))"
   ]
  },
  {
   "cell_type": "code",
   "execution_count": 26,
   "metadata": {},
   "outputs": [
    {
     "name": "stdout",
     "output_type": "stream",
     "text": [
      "<class 'int'>\n",
      "<class 'float'>\n",
      "<class 'complex'>\n",
      "<class 'str'>\n",
      "<class 'bool'>\n"
     ]
    }
   ],
   "source": [
    "\"\"\"\n",
    "\n",
    "第四个：\n",
    "    使用type()检查变量的类型\n",
    "\n",
    "\"\"\"\n",
    "a = 100\n",
    "b = 12.3\n",
    "c = 1 + 2j\n",
    "d = 'hello,world'\n",
    "e = True\n",
    "print(type(a))\n",
    "print(type(b))\n",
    "print(type(c))\n",
    "print(type(d))\n",
    "print(type(e))"
   ]
  },
  {
   "cell_type": "code",
   "execution_count": 40,
   "metadata": {},
   "outputs": [
    {
     "name": "stdout",
     "output_type": "stream",
     "text": [
      "a =  20\n"
     ]
    }
   ],
   "source": [
    "\"\"\"\n",
    "\n",
    "第五个：\n",
    "    运算符的使用\n",
    "\n",
    "\"\"\"\n",
    "a = 5\n",
    "b = 10\n",
    "c = 3\n",
    "d = 4\n",
    "e = 5\n",
    "#a += b\n",
    "#a -= c\n",
    "a *= d\n",
    "# a /= e\n",
    "print('a = ',a)"
   ]
  },
  {
   "cell_type": "code",
   "execution_count": 43,
   "metadata": {},
   "outputs": [
    {
     "name": "stdout",
     "output_type": "stream",
     "text": [
      "num1 = True\n",
      "num2 = False\n",
      "num3 = False\n",
      "num4 = True\n",
      "num5 = False\n"
     ]
    }
   ],
   "source": [
    "num1 = 3 > 2\n",
    "num2 =2 < 1\n",
    "num3 = num1 and num2\n",
    "num4 = num1 or num2\n",
    "num5 = not num1\n",
    "print('num1 =',num1)\n",
    "print('num2 =',num2)\n",
    "print('num3 =',num3)\n",
    "print('num4 =',num4)\n",
    "print('num5 =',num5)"
   ]
  },
  {
   "cell_type": "code",
   "execution_count": 45,
   "metadata": {},
   "outputs": [
    {
     "name": "stdout",
     "output_type": "stream",
     "text": [
      "请输入华氏温度： 1.8\n",
      "1.8华氏度 = -16.8摄氏度\n"
     ]
    }
   ],
   "source": [
    "\"\"\"\n",
    "练习题1：\n",
    "    将华氏温度转换成摄氏温度\n",
    "\n",
    "\"\"\"\n",
    "f = float(input('请输入华氏温度： '))\n",
    "c = (f - 32)/1.8\n",
    "print('%.1f华氏度 = %.1f摄氏度'% (f,c))"
   ]
  },
  {
   "cell_type": "code",
   "execution_count": 47,
   "metadata": {},
   "outputs": [
    {
     "name": "stdout",
     "output_type": "stream",
     "text": [
      "请输入圆的半径：3\n",
      "周长：18.85\n",
      "面积：28.27\n"
     ]
    }
   ],
   "source": [
    "\"\"\"\n",
    "练习题2：\n",
    "    输入半径计算圆的周长和面积\n",
    "    \n",
    "\"\"\"\n",
    "\n",
    "import math\n",
    "r = float(input('请输入圆的半径：'))\n",
    "L = 2*math.pi*r\n",
    "S = math.pi*r**2\n",
    "print('周长：%.2f' % L)\n",
    "print('面积：%.2f' % S)"
   ]
  },
  {
   "cell_type": "code",
   "execution_count": 60,
   "metadata": {},
   "outputs": [
    {
     "name": "stdout",
     "output_type": "stream",
     "text": [
      "请输入年份：2000\n",
      "2000 是闰年\n"
     ]
    }
   ],
   "source": [
    "\"\"\"\n",
    "练习题3：\n",
    "    输入年份 如果是闰年输出True,否则输出False\n",
    "    \n",
    "\"\"\"\n",
    "\n",
    "year = int(input('请输入年份：'))\n",
    "if (year%4==0 and year%100!=0) or year%400 ==0:\n",
    "    print(year,'是闰年')\n",
    "else:\n",
    "    print(year,'是平年')"
   ]
  },
  {
   "cell_type": "code",
   "execution_count": 4,
   "metadata": {},
   "outputs": [
    {
     "name": "stdout",
     "output_type": "stream",
     "text": [
      "请输入用户名：张巧凤\n",
      "请输入口令：123\n",
      "身份验证失败！\n"
     ]
    }
   ],
   "source": [
    "\"\"\"\n",
    "if elif else 语句使用\n",
    "\n",
    "    用户身份验证\n",
    "\n",
    "\"\"\"\n",
    "username = input('请输入用户名：')\n",
    "password = input('请输入口令：')\n",
    "if username == 'zhangwenjie' and password =='8023':\n",
    "    print('身份验证成功！')\n",
    "else:\n",
    "    print('身份验证失败！')"
   ]
  },
  {
   "cell_type": "code",
   "execution_count": 3,
   "metadata": {},
   "outputs": [
    {
     "name": "stdout",
     "output_type": "stream",
     "text": [
      "请输入用户名：zhangwenjie\n",
      "请输入口令：········\n",
      "身份验证成功！\n"
     ]
    }
   ],
   "source": [
    "import getpass\n",
    "username = input('请输入用户名：')\n",
    "password = getpass.getpass('请输入口令：')\n",
    "#如果希望输入口令时，口令隐蔽，可以使用getpass模块的getpass函数\n",
    "if username == 'zhangwenjie' and password =='8023':\n",
    "    print('身份验证成功！')\n",
    "else:\n",
    "    print('身份验证失败！')"
   ]
  },
  {
   "cell_type": "code",
   "execution_count": 8,
   "metadata": {},
   "outputs": [
    {
     "name": "stdout",
     "output_type": "stream",
     "text": [
      "5050\n"
     ]
    }
   ],
   "source": [
    "\"\"\"\n",
    "    循环结构\n",
    "    -------\n",
    "    1.for...in...------明确知道循环执行的次数或者是需要迭代\n",
    "    -------------------------------------------------\n",
    "    例题：用for循环实现1~100求和\n",
    "    -------------------------\n",
    "    range(101)可以产生一个0到100的整数序列。\n",
    "    range(1, 100)可以产生一个1到99的整数序列。\n",
    "    range(1, 100, 2)可以产生一个1到99的奇数序列，其中的2是步长，即数值序列的增量\n",
    "    \n",
    "\"\"\"\n",
    "sum_ =0\n",
    "for i in range(101):\n",
    "    sum_+=i\n",
    "print(sum_)\n"
   ]
  },
  {
   "cell_type": "code",
   "execution_count": null,
   "metadata": {},
   "outputs": [],
   "source": [
    "\"\"\"\n",
    "    用for循环实现1~100之间的偶数求和\n",
    "\n",
    "\"\"\"\n",
    "sum_=0\n",
    "for i in range(2,101,2):\n",
    "    sum_+=i\n",
    "print(sum_)\n",
    "    "
   ]
  },
  {
   "cell_type": "code",
   "execution_count": 12,
   "metadata": {},
   "outputs": [
    {
     "name": "stdout",
     "output_type": "stream",
     "text": [
      "2550\n"
     ]
    }
   ],
   "source": [
    "\"\"\"\n",
    "    用for循环实现1~100之间的偶数求和\n",
    "\n",
    "\"\"\"\n",
    "sum_=0\n",
    "for i in range(1,101):\n",
    "    if i % 2 ==0:\n",
    "        sum_+=i\n",
    "print(sum_)"
   ]
  },
  {
   "cell_type": "code",
   "execution_count": null,
   "metadata": {},
   "outputs": [
    {
     "name": "stdout",
     "output_type": "stream",
     "text": [
      "请输入：23\n",
      "小了\n",
      "请输入：34\n",
      "小了\n",
      "请输入：4\n",
      "小了\n",
      "请输入：90\n",
      "大了\n"
     ]
    }
   ],
   "source": [
    "\"\"\"\n",
    "    2.while循环--------不知道具体循环次数的循环结构\n",
    "    ------------------------------------------\n",
    "    例题：\n",
    "    猜数字游戏\n",
    "    计算机出一个1~100之间的随机数由人来猜\n",
    "    计算机根据人猜的数字分别给出提示:大了/小了/猜对了\n",
    "\n",
    "\"\"\"\n",
    "import random\n",
    "\n",
    "computer = random.randint(1,100)\n",
    "count = 0\n",
    "while True:\n",
    "    count +=1\n",
    "    number = int(input('请输入：'))\n",
    "    if number<computer:\n",
    "        print('小了')\n",
    "    elif number>computer:\n",
    "        print('大了')\n",
    "    else:\n",
    "        print('猜对了')\n",
    "        break\n",
    "print('你总共猜了%d次' % count )\n",
    "if count >10:\n",
    "    print('你的智商余额不足')"
   ]
  },
  {
   "cell_type": "code",
   "execution_count": 4,
   "metadata": {},
   "outputs": [
    {
     "name": "stdout",
     "output_type": "stream",
     "text": [
      "1*1=1 \n",
      "1*2=2 2*2=4 \n",
      "1*3=3 2*3=6 3*3=9 \n",
      "1*4=4 2*4=8 3*4=12 4*4=16 \n",
      "1*5=5 2*5=10 3*5=15 4*5=20 5*5=25 \n",
      "1*6=6 2*6=12 3*6=18 4*6=24 5*6=30 6*6=36 \n",
      "1*7=7 2*7=14 3*7=21 4*7=28 5*7=35 6*7=42 7*7=49 \n",
      "1*8=8 2*8=16 3*8=24 4*8=32 5*8=40 6*8=48 7*8=56 8*8=64 \n",
      "1*9=9 2*9=18 3*9=27 4*9=36 5*9=45 6*9=54 7*9=63 8*9=72 9*9=81 \n"
     ]
    }
   ],
   "source": [
    "\"\"\"\n",
    "输出乘法口诀表(九九表)\n",
    "\n",
    "\"\"\"\n",
    "\n",
    "for i in range(1,10):\n",
    "    for j in range(1,i+1):\n",
    "        print('%d*%d=%d '%(j,i,i*j),end='')\n",
    "    print()"
   ]
  },
  {
   "cell_type": "code",
   "execution_count": 5,
   "metadata": {},
   "outputs": [
    {
     "name": "stdout",
     "output_type": "stream",
     "text": [
      "9*1=9 9*2=18 9*3=27 9*4=36 9*5=45 9*6=54 9*7=63 9*8=72 9*9=81 \n",
      "8*1=8 8*2=16 8*3=24 8*4=32 8*5=40 8*6=48 8*7=56 8*8=64 \n",
      "7*1=7 7*2=14 7*3=21 7*4=28 7*5=35 7*6=42 7*7=49 \n",
      "6*1=6 6*2=12 6*3=18 6*4=24 6*5=30 6*6=36 \n",
      "5*1=5 5*2=10 5*3=15 5*4=20 5*5=25 \n",
      "4*1=4 4*2=8 4*3=12 4*4=16 \n",
      "3*1=3 3*2=6 3*3=9 \n",
      "2*1=2 2*2=4 \n",
      "1*1=1 \n"
     ]
    }
   ],
   "source": [
    "\"\"\"\n",
    "输出乘法口诀表(九九表)\n",
    "\n",
    "\"\"\"\n",
    "for i in range(9,0,-1):\n",
    "    for j in range(1,i+1):\n",
    "        print('%d*%d=%d '%(i,j,i*j),end='')\n",
    "    print()\n",
    "        "
   ]
  },
  {
   "cell_type": "code",
   "execution_count": null,
   "metadata": {},
   "outputs": [],
   "source": []
  }
 ],
 "metadata": {
  "kernelspec": {
   "display_name": "Python 3",
   "language": "python",
   "name": "python3"
  },
  "language_info": {
   "codemirror_mode": {
    "name": "ipython",
    "version": 3
   },
   "file_extension": ".py",
   "mimetype": "text/x-python",
   "name": "python",
   "nbconvert_exporter": "python",
   "pygments_lexer": "ipython3",
   "version": "3.6.4"
  }
 },
 "nbformat": 4,
 "nbformat_minor": 2
}
